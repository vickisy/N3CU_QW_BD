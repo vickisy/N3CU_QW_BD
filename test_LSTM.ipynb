{
 "cells": [
  {
   "cell_type": "code",
   "execution_count": 1,
   "metadata": {},
   "outputs": [
    {
     "data": {
      "text/plain": [
       "('register_type', 'no_act_video', 'bias_or_not', (40518, 105))"
      ]
     }, 
     "execution_count": 1,
     "metadata": {},
     "output_type": "execute_result"
    }
   ],
   "source": [
    "import pandas as pd,numpy as np,tensorflow as tf\n",
    "train=pd.read_csv(r'/home/qwbd/TrainData24DAYS105cols.csv')\n",
    "test=pd.read_csv(r'/home/qwbd/TestData24DAYS105cols.csv')\n",
    "col=[x for x in train.columns if x not in ['user_id','label']]\n",
    "data=train[col]\n",
    "label=train['label']\n",
    "data.columns[6],data.columns[47],data.columns[53],data.shape"
   ]
  },
  {
   "cell_type": "code",
   "execution_count": null,
   "metadata": {
    "collapsed": true
   },
   "outputs": [],
   "source": [
    "from sklearn import preprocessing\n",
    "ohe1=preprocessing.OneHotEncoder(n_values=[2],categorical_features=[0])\n",
    "label=label.reshape(-1,1)\n",
    "label=ohe1.fit_transform(label).toarray()\n",
    "label.shape"
   ]
  },
  {
   "cell_type": "code",
   "execution_count": null,
   "metadata": {
    "collapsed": true
   },
   "outputs": [],
   "source": [
    "from sklearn import preprocessing\n",
    "ohe=preprocessing.OneHotEncoder(n_values=[12,2,2,2,2,2,2,2],categorical_features=[6,47,48,49,50,51,52,53])\n",
    "data=ohe.fit_transform(data).toarray()"
   ]
  },
  {
   "cell_type": "code",
   "execution_count": null,
   "metadata": {
    "collapsed": true
   },
   "outputs": [],
   "source": [
    "col1=[x for x in test.columns if x not in ['user_id']]\n",
    "testdata=test[col1]\n",
    "testdata.columns[6],testdata.columns[47],testdata.columns[53],testdata.shape\n",
    "testdata=ohe.fit_transform(testdata).toarray()\n",
    "testdata.shape,data.shape,label.shape"
   ]
  },
  {
   "cell_type": "markdown",
   "metadata": {},
   "source": [
    "训练集、测试集预处理完毕"
   ]
  },
  {
   "cell_type": "code",
   "execution_count": null,
   "metadata": {
    "collapsed": true
   },
   "outputs": [],
   "source": [
    "learning_rate = 1e-3\n",
    "num_units = 256\n",
    "num_layer = 3\n",
    "input_size = 41\n",
    "time_step = 3\n",
    "total_steps = 1000\n",
    "category_num = 2\n",
    "steps_per_validate = 100\n",
    "#steps_per_test = 500\n",
    "batch_size = tf.placeholder(tf.int32, [])\n",
    "keep_prob = tf.placeholder(tf.float32, [])"
   ]
  },
  {
   "cell_type": "code",
   "execution_count": null,
   "metadata": {
    "collapsed": true
   },
   "outputs": [],
   "source": [
    "x = tf.placeholder(tf.float32, [None, 123])\n",
    "y_label = tf.placeholder(tf.float32, [None, 2])\n",
    "#每个样本123维，分成3个时间序列，每个时间序列41个属性输入网络\n",
    "x_shape = tf.reshape(x, [-1, time_step, input_size])\n",
    "#DroupoutWrapper防止过拟合\n",
    "from tensorflow.contrib.rnn import DropoutWrapper\n",
    "def cell(num_units):\n",
    "    cell = tf.nn.rnn_cell.BasicLSTMCell(num_units=num_units)\n",
    "    return DropoutWrapper(cell, output_keep_prob=keep_prob)"
   ]
  },
  {
   "cell_type": "code",
   "execution_count": null,
   "metadata": {
    "collapsed": true
   },
   "outputs": [],
   "source": [
    "#三层LSTM\n",
    "cells = tf.nn.rnn_cell.MultiRNNCell([cell(num_units) for _ in range(num_layer)])\n",
    "#batch_size=1000，每一个批次的每个样本都赋予一个初始化0状态\n",
    "h0 = cells.zero_state(batch_size, dtype=tf.float32)\n",
    "output, hs = tf.nn.dynamic_rnn(cells, inputs=x_shape, initial_state=h0)\n",
    "#网络中每个样本最后一个时间序列的结果作为输出\n",
    "output = output[:, -1, :]\n",
    "# Output Layer，全连接层线性变换\n",
    "w = tf.Variable(tf.truncated_normal([num_units, category_num], stddev=0.1), dtype=tf.float32)\n",
    "b = tf.Variable(tf.constant(0.1, shape=[category_num]), dtype=tf.float32)\n",
    "y = tf.matmul(output, w) + b\n",
    "# Loss\n",
    "cross_entropy = tf.reduce_mean(tf.nn.softmax_cross_entropy_with_logits(labels=y_label, logits=y))"
   ]
  },
  {
   "cell_type": "code",
   "execution_count": null,
   "metadata": {
    "collapsed": true
   },
   "outputs": [],
   "source": [
    "#生成批次数据\n",
    "def gen_batch(data,label,batch_size):\n",
    "    row, col = data.shape\n",
    "    n = row // batch_size     \n",
    "    for i in range(n):\n",
    "        x = data[i * batch_size : (i + 1) * batch_size,:]     # 0~col-1为数据\n",
    "        y = label[i * batch_size : (i + 1) * batch_size,:]  # 最后一列列是标签\n",
    "        yield (x, y)"
   ]
  },
  {
   "cell_type": "code",
   "execution_count": null,
   "metadata": {
    "collapsed": true
   },
   "outputs": [],
   "source": [
    "training= tf.train.AdamOptimizer(learning_rate=learning_rate).minimize(cross_entropy)\n",
    "\n",
    "correction_prediction = tf.equal(tf.argmax(y, axis=1), tf.argmax(y_label, axis=1))\n",
    "accuracy = tf.reduce_mean(tf.cast(correction_prediction, tf.float32))\n",
    "\n",
    "saver=tf.train.Saver()\n",
    "with tf.Session() as sess:\n",
    "    sess.run(tf.global_variables_initializer())\n",
    "    for step in range(total_steps + 1):\n",
    "        for batch_x,batch_y in gen_batch(data,label,1000):\n",
    "            sess.run(training, feed_dict={x: batch_x, y_label: batch_y, keep_prob: 0.5, batch_size:1000})\n",
    "            if step % steps_per_validate == 0:\n",
    "                print('Train', step, sess.run(accuracy, feed_dict={x: batch_x, y_label: batch_y, keep_prob:0.5,\n",
    "                                                               batch_size:1000}))\n",
    "    saver.save(sess,r\"C:\\Users\\hp\\tfModels\\LSTMdasai.cpkt\")"
   ]
  }
 ],
 "metadata": {
  "kernelspec": {
   "display_name": "Python 3",
   "language": "python",
   "name": "python3"
  },
  "language_info": {
   "codemirror_mode": {
    "name": "ipython",
    "version": 3
   },
   "file_extension": ".py",
   "mimetype": "text/x-python",
   "name": "python",
   "nbconvert_exporter": "python",
   "pygments_lexer": "ipython3",
   "version": "3.6.3"
  }
 },
 "nbformat": 4,
 "nbformat_minor": 2
}
