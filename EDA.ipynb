{
 "cells": [
  {
   "cell_type": "code",
   "execution_count": 1,
   "metadata": {
    "collapsed": true
   },
   "outputs": [],
   "source": [
    "import pandas as pd\n",
    "import numpy as np\n",
    "import matplotlib.pyplot as plt\n",
    "import seaborn as sns\n",
    "color = sns.color_palette()\n",
    "%matplotlib inline\n"
   ]
  },
  {
   "cell_type": "markdown",
   "metadata": {},
   "source": [
    "### 1.数据导入"
   ]
  },
  {
   "cell_type": "code",
   "execution_count": 4,
   "metadata": {
    "collapsed": true
   },
   "outputs": [],
   "source": [
    "import pandas as pd\n",
    "import numpy as np\n",
    "import matplotlib.pyplot as plt\n",
    "import seaborn as sns\n",
    "color = sns.color_palette()\n",
    "%matplotlib inline\n",
    "\n",
    "input_dir = 'qwbd-data/'\n",
    "\n",
    "register = pd.read_csv(input_dir + 'user_register_log.txt', sep='\\t',\n",
    "                    names=['user_id','register_day','register_type','device_type'],\n",
    "                    dtype={0: np.uint32, 1: np.uint8, 2: np.uint8, 3: np.uint16})\n",
    "launch = pd.read_csv(input_dir + 'app_launch_log.txt', sep='\\t',\n",
    "                  names=['user_id', 'launch_day'],\n",
    "                  dtype={0: np.uint32, 1: np.uint8})\n",
    "video = pd.read_csv(input_dir + 'video_create_log.txt', sep='\\t',\n",
    "                  names=['user_id', 'video_day'],\n",
    "                  dtype={0: np.uint32, 1: np.uint8})\n",
    "activity = pd.read_csv(input_dir + 'user_activity_log.txt', sep='\\t',\n",
    "                    names=['user_id','activity_day','page','video_id','author_id','action_type'],\n",
    "                    dtype={0: np.uint32, 1: np.uint8, 2: np.uint8, 3: np.uint32, 4: np.uint32, 5: np.uint8})"
   ]
  },
  {
   "cell_type": "markdown",
   "metadata": {},
   "source": [
    "### 2.EDA"
   ]
  },
  {
   "cell_type": "code",
   "execution_count": 29,
   "metadata": {},
   "outputs": [
    {
     "data": {
      "text/html": [
       "<div>\n",
       "<style scoped>\n",
       "    .dataframe tbody tr th:only-of-type {\n",
       "        vertical-align: middle;\n",
       "    }\n",
       "\n",
       "    .dataframe tbody tr th {\n",
       "        vertical-align: top;\n",
       "    }\n",
       "\n",
       "    .dataframe thead th {\n",
       "        text-align: right;\n",
       "    }\n",
       "</style>\n",
       "<table border=\"1\" class=\"dataframe\">\n",
       "  <thead>\n",
       "    <tr style=\"text-align: right;\">\n",
       "      <th></th>\n",
       "      <th>user_id</th>\n",
       "      <th>register_day</th>\n",
       "      <th>register_type</th>\n",
       "      <th>device_type</th>\n",
       "    </tr>\n",
       "  </thead>\n",
       "  <tbody>\n",
       "    <tr>\n",
       "      <th>37491</th>\n",
       "      <td>1293541</td>\n",
       "      <td>7</td>\n",
       "      <td>1</td>\n",
       "      <td>97</td>\n",
       "    </tr>\n",
       "    <tr>\n",
       "      <th>37896</th>\n",
       "      <td>1350165</td>\n",
       "      <td>21</td>\n",
       "      <td>1</td>\n",
       "      <td>1119</td>\n",
       "    </tr>\n",
       "    <tr>\n",
       "      <th>6081</th>\n",
       "      <td>312260</td>\n",
       "      <td>2</td>\n",
       "      <td>0</td>\n",
       "      <td>32</td>\n",
       "    </tr>\n",
       "    <tr>\n",
       "      <th>44118</th>\n",
       "      <td>1302088</td>\n",
       "      <td>16</td>\n",
       "      <td>1</td>\n",
       "      <td>7</td>\n",
       "    </tr>\n",
       "    <tr>\n",
       "      <th>17064</th>\n",
       "      <td>398517</td>\n",
       "      <td>11</td>\n",
       "      <td>4</td>\n",
       "      <td>2</td>\n",
       "    </tr>\n",
       "    <tr>\n",
       "      <th>12989</th>\n",
       "      <td>109470</td>\n",
       "      <td>27</td>\n",
       "      <td>1</td>\n",
       "      <td>401</td>\n",
       "    </tr>\n",
       "    <tr>\n",
       "      <th>35306</th>\n",
       "      <td>414257</td>\n",
       "      <td>24</td>\n",
       "      <td>2</td>\n",
       "      <td>10</td>\n",
       "    </tr>\n",
       "    <tr>\n",
       "      <th>46722</th>\n",
       "      <td>29816</td>\n",
       "      <td>10</td>\n",
       "      <td>0</td>\n",
       "      <td>18</td>\n",
       "    </tr>\n",
       "    <tr>\n",
       "      <th>48167</th>\n",
       "      <td>553894</td>\n",
       "      <td>1</td>\n",
       "      <td>0</td>\n",
       "      <td>37</td>\n",
       "    </tr>\n",
       "    <tr>\n",
       "      <th>49153</th>\n",
       "      <td>6224</td>\n",
       "      <td>15</td>\n",
       "      <td>2</td>\n",
       "      <td>58</td>\n",
       "    </tr>\n",
       "  </tbody>\n",
       "</table>\n",
       "</div>"
      ],
      "text/plain": [
       "       user_id  register_day  register_type  device_type\n",
       "37491  1293541             7              1           97\n",
       "37896  1350165            21              1         1119\n",
       "6081    312260             2              0           32\n",
       "44118  1302088            16              1            7\n",
       "17064   398517            11              4            2\n",
       "12989   109470            27              1          401\n",
       "35306   414257            24              2           10\n",
       "46722    29816            10              0           18\n",
       "48167   553894             1              0           37\n",
       "49153     6224            15              2           58"
      ]
     },
     "execution_count": 29,
     "metadata": {},
     "output_type": "execute_result"
    }
   ],
   "source": [
    "register.sample(10)"
   ]
  },
  {
   "cell_type": "code",
   "execution_count": 62,
   "metadata": {},
   "outputs": [
    {
     "name": "stdout",
     "output_type": "stream",
     "text": [
      "<class 'pandas.core.frame.DataFrame'>\n",
      "RangeIndex: 51709 entries, 0 to 51708\n",
      "Data columns (total 4 columns):\n",
      "user_id          51709 non-null uint32\n",
      "register_day     51709 non-null uint8\n",
      "register_type    51709 non-null uint8\n",
      "device_type      51709 non-null uint16\n",
      "dtypes: uint16(1), uint32(1), uint8(2)\n",
      "memory usage: 404.0 KB\n"
     ]
    }
   ],
   "source": [
    "register.info()"
   ]
  },
  {
   "cell_type": "code",
   "execution_count": 40,
   "metadata": {
    "scrolled": true
   },
   "outputs": [
    {
     "data": {
      "text/plain": [
       "24    3072\n",
       "21    2439\n",
       "22    2389\n",
       "23    2312\n",
       "27    2197\n",
       "28    2186\n",
       "13    2157\n",
       "14    2053\n",
       "6     1863\n",
       "29    1821\n",
       "20    1794\n",
       "30    1788\n",
       "7     1708\n",
       "12    1658\n",
       "26    1644\n",
       "18    1611\n",
       "15    1557\n",
       "25    1555\n",
       "19    1534\n",
       "17    1519\n",
       "16    1506\n",
       "11    1462\n",
       "10    1401\n",
       "5     1324\n",
       "8     1231\n",
       "3     1224\n",
       "1     1200\n",
       "9     1179\n",
       "4     1167\n",
       "2     1158\n",
       "Name: register_day, dtype: int64"
      ]
     },
     "execution_count": 40,
     "metadata": {},
     "output_type": "execute_result"
    }
   ],
   "source": [
    "#每天的注册用户数\n",
    "# register.groupby(by=['register_day']).size()\n",
    "register['register_day'].value_counts()"
   ]
  },
  {
   "cell_type": "markdown",
   "metadata": {},
   "source": [
    "#### 2.1分析异常值"
   ]
  },
  {
   "cell_type": "code",
   "execution_count": 42,
   "metadata": {},
   "outputs": [
    {
     "data": {
      "text/plain": [
       "<matplotlib.axes._subplots.AxesSubplot at 0x1813e940>"
      ]
     },
     "execution_count": 42,
     "metadata": {},
     "output_type": "execute_result"
    },
    {
     "data": {
      "image/png": "[encoded data removed]",
      "text/plain": [
       "<Figure size 432x288 with 1 Axes>"
      ]
     },
     "metadata": {},
     "output_type": "display_data"
    }
   ],
   "source": [
    "sns.countplot(x='register_day',data=register)  #可以看出24号这天的数据显著增多"
   ]
  },
  {
   "cell_type": "code",
   "execution_count": 43,
   "metadata": {},
   "outputs": [
    {
     "data": {
      "image/png": "[encoded data removed]",
      "text/plain": [
       "<Figure size 864x360 with 1 Axes>"
      ]
     },
     "metadata": {},
     "output_type": "display_data"
    }
   ], 
   "source": [
    "plt.figure(figsize=(12,5))\n",
    "plt.title(\"Distribution of register day\")\n",
    "ax = sns.distplot(register[\"register_day\"],bins=30)"
   ]
  },
  {
   "cell_type": "code",
   "execution_count": 44,
   "metadata": {},
   "outputs": [
    {
     "data": {
      "text/plain": [
       "<matplotlib.axes._subplots.AxesSubplot at 0x1f7f0358>"
      ]
     },
     "execution_count": 44,
     "metadata": {},
     "output_type": "execute_result"
    },
    {
     "data": {
      "image/png": "[encoded data removed]",
      "text/plain": [
       "<Figure size 432x288 with 1 Axes>"
      ]
     },
     "metadata": {},
     "output_type": "display_data"
    }
   ],
   "source": [
    "sns.countplot(x='register_type',data=register[register['register_day']==24])"
   ]
  },
  {
   "cell_type": "code",
   "execution_count": 49,
   "metadata": {},
   "outputs": [
    {
     "data": {
      "text/plain": [
       "<matplotlib.axes._subplots.AxesSubplot at 0x22913400>"
      ]
     },
     "execution_count": 49,
     "metadata": {},
     "output_type": "execute_result"
    },
    {
     "data": {
      "image/png": "[encoded data removed]",
      "text/plain": [
       "<Figure size 432x288 with 1 Axes>"
      ]
     },
     "metadata": {},
     "output_type": "display_data"
    }
   ],
   "source": [
    "sns.countplot(x='register_type',data=register[register['register_day']==28])"
   ]
  },
  {
   "cell_type": "code",
   "execution_count": 61,
   "metadata": {
    "scrolled": true
   },
   "outputs": [
    {
     "data": {
      "text/plain": [
       "1        1107\n",
       "83        107\n",
       "223        65\n",
       "10          3\n",
       "648         2\n",
       "485         1\n",
       "35          1\n",
       "4157        1\n",
       "66          1\n",
       "87          1\n",
       "2218        1\n",
       "266         1\n",
       "2352        1\n",
       "438         1\n",
       "443         1\n",
       "12052       1\n",
       "1565        1\n",
       "527         1\n",
       "578         1\n",
       "636         1\n",
       "2741        1\n",
       "694         1\n",
       "720         1\n",
       "908         1\n",
       "941         1\n",
       "952         1\n",
       "1168        1\n",
       "1322        1\n",
       "1498        1\n",
       "486         1\n",
       "Name: device_type, dtype: int64"
      ]
     },
     "execution_count": 61,
     "metadata": {},
     "output_type": "execute_result"
    }
   ],
   "source": [
    "register[(register[\"register_day\"]==24)&(register[\"register_type\"]==3)][\"device_type\"].value_counts()"
   ]
  },
  {
   "cell_type": "code",
   "execution_count": 60,
   "metadata": {},
   "outputs": [
    {
     "name": "stdout",
     "output_type": "stream",
     "text": [
      "1141\n"
     ]
    }
   ],
   "source": [
    "user_outliers = register[(register[\"device_type\"]==1)|((register[\"register_day\"].isin([24]))&(register[\"register_type\"]==3)&(register[\"device_type\"]==1))][\"user_id\"].unique().tolist()\n",
    "print(len(user_outliers))"
   ]
  },
  {
   "cell_type": "markdown",
   "metadata": {},
   "source": [
    "### 3.构建训练、验证、测试集\n",
    "题目是属于时间序列分析，使用滑窗法\n",
    "根据日期分割数据集：\n",
    "\n",
    "offline-train1 用户1-9 标签10-16  \n",
    "offline-train2 用户1-16 标签17-23   \n",
    "offline-train3 用户1-23 标签24-30 [验证集]   \n",
    "online-test 用户1-30 标签31-37  "
   ]
  },
  {
   "cell_type": "code",
   "execution_count": null,
   "metadata": {
    "collapsed": true
   },
   "outputs": [],
   "source": [
    "def cut_data_on_time(output_path,begin_day,end_day):\n",
    "    temp_register = register[(register['register_day'] >= 1) & (register['register_day'] <= end_day)]\n",
    "    temp_launch = launch[(launch['launch_day'] >= begin_day) & (launch['launch_day'] <= end_day)]\n",
    "    temp_video = video[(video['video_day'] >= begin_day) & (video['video_day'] <= end_day)]\n",
    "    temp_activity = activity[(activity['activity_day'] >= begin_day) & (activity['activity_day'] <= end_day)]\n",
    "    \n",
    "    temp_register.to_csv(output_path + '/register.csv',index=False)\n",
    "    del temp_register\n",
    "    temp_launch.to_csv(output_path + '/launch.csv',index=False)\n",
    "    del temp_launch\n",
    "    temp_video.to_csv(output_path + '/video.csv',index=False)\n",
    "    del temp_video\n",
    "    temp_activity.to_csv(output_path + '/activity.csv',index=False)\n",
    "    del temp_activity\n",
    "    \n",
    "def generate_dataset():\n",
    "    print('Cutting train data set 1 ...')\n",
    "    begin_day = 1\n",
    "    end_day = 9\n",
    "    cut_data_on_time(dataset_1_feat_dir,begin_day,end_day)\n",
    "    begin_day = 10\n",
    "    end_day = 16\n",
    "    cut_data_on_time(dataset_1_label_dir,begin_day,end_day)\n",
    "    \n",
    "    print('Cutting train data set 2 ...')\n",
    "    begin_day = 1\n",
    "    end_day = 16\n",
    "    cut_data_on_time(dataset_2_feat_dir,begin_day,end_day)\n",
    "    begin_day = 17\n",
    "    end_day = 23\n",
    "    cut_data_on_time(dataset_2_label_dir,begin_day,end_day)\n",
    "    \n",
    "    print('Cutting train data set 3 ...')\n",
    "    begin_day = 1\n",
    "    end_day = 23\n",
    "    cut_data_on_time(dataset_3_feat_dir,begin_day,end_day)\n",
    "    begin_day = 24\n",
    "    end_day = 30\n",
    "    cut_data_on_time(dataset_3_label_dir,begin_day,end_day)\n",
    "\n",
    "    print('Cutting test data set...')\n",
    "    begin_day = 1\n",
    "    end_day = 30\n",
    "    cut_data_on_time(dataset_4_feat_dir,begin_day,end_day)"
   ]
  },
  {
   "cell_type": "markdown",
   "metadata": {},
   "source": [
    "### 4.特征工程\n",
    "* 4.1 register表\n",
    "  * 注册时间\n",
    "  * 注册类型\n",
    "  * 注册设备类型\n",
    "  * 已经注册的天数\n",
    "  * 注册时间的权重\n",
    "* 4.2 launch表\n",
    "  * launch相隔天数特征\n",
    "  * 最后一次launch在哪一天\n",
    "  * 第一次启动是在哪一天\n",
    "  * 最后一次启动距离预测日期多少天\n",
    "  * 最多启动的时间\n",
    "  * 每个用户启动diff（前后差）的次数、最大值、最小值、平均值、标准差、峰度、偏度\n",
    "  * 滑动时间窗口启动的次数、启动时间权重\n",
    "* 4.3 video表\n",
    "  * 最后一次拍摄视频在哪一天\n",
    "  * 第一次拍摄视频在哪一天\n",
    "  * 最后一次拍摄视频距离预测日期多少天\n",
    "  * 最多拍摄视频的时间\n",
    "  * 拍摄视频diff（前后差）的次数、最大值、最小值、平均值、标准差、峰度、偏度\n",
    "  * 滑动时间窗口拍摄视频的次数、拍摄视频的时间权重\n",
    "* 4.4 activity表\n",
    "  * 最后一次活动在哪一天\n",
    "  * 第一次活动在哪一天\n",
    "  * 最后一次活动距离预测日期多少天\n",
    "  * 最多活动的时间\n",
    "  * 活动diff（前后差）的次数、最大值、最小值、平均值、标准差、峰度、偏度\n",
    "  * 滑动时间窗口活动的次数、活动的时间权重\n",
    "  * 行为日志还可以对page和action_type提取一些分组统计特征\n",
    "* 4.5 组合特征\n",
    "  * 注册后与最后一次启动的相隔天数\n",
    "  * 注册后与最后一次拍摄的相隔天数\n",
    "  * 注册后与最后一次活动的相隔天数\n",
    "  * 用户创作视频被观看的概率\n",
    "  * 用户启动、拍摄视频、活动的平均次数\n"
   ]
  },
  {
   "cell_type": "code",
   "execution_count": null,
   "metadata": {
    "collapsed": true
   },
   "outputs": [],
   "source": [
    "''' 其中的launch特征提取 '''\n",
    "\n",
    "def launch_slide_window(launch):\n",
    "    launch_total_count = launch[['user_id']].groupby(['user_id']).size().rename('launch_total_count').reset_index()\n",
    "    \n",
    "    # 加入权重信息\n",
    "    launch['app_launch_log_flag'] = launch['app_launch_log_flag'].fillna(0)\n",
    "    launch_date = np.max(launch['launch_day'])\n",
    "    launch['weight'] = launch_date + 1- launch['launch_day']\n",
    "    launch['weight'] = 1 / launch['weight']\n",
    "    launch['app_launch_log_flag'] = launch['app_launch_log_flag'] * launch['weight']\n",
    "    launch_time_feat = launch.groupby(['user_id'])['app_launch_log_flag'].sum().rename('windows_launch_feat').reset_index()\n",
    "\n",
    "    return launch_total_count,launch_time_feat\n",
    "\n",
    "def get_launch_feature(launch):\n",
    "    feature = pd.DataFrame()\n",
    "    feature['user_id'] = launch['user_id'].drop_duplicates()\n",
    "    end_day = np.max(launch['launch_day'])\n",
    "    #滑窗 窗口内launch次数\n",
    "    launch_total_count_all, launch_time_feat_all=launch_slide_window(launch)\n",
    "    launch_total_count_1 , launch_time_feat_1=launch_slide_window(launch[(launch['launch_day']>=end_day) & (launch['launch_day']<=end_day)])\n",
    "    launch_total_count_2, launch_time_feat_2=launch_slide_window(launch[(launch['launch_day']>=end_day-1) & (launch['launch_day']<=end_day)])\n",
    "    launch_total_count_3, launch_time_feat_3=launch_slide_window(launch[(launch['launch_day']>=end_day-2) & (launch['launch_day']<=end_day)])\n",
    "    launch_total_count_5, launch_time_feat_5=launch_slide_window(launch[(launch['launch_day']>=end_day-4) & (launch['launch_day']<=end_day)])\n",
    "    launch_total_count_7, launch_time_feat_7=launch_slide_window(launch[(launch['launch_day']>=end_day-6) & (launch['launch_day']<=end_day)])\n",
    "    launch_total_count_10, launch_time_feat_10=launch_slide_window(launch[(launch['launch_day']>=end_day-9) & (launch['launch_day']<=end_day)])\n",
    "    #launch相隔天数特征\n",
    "    launch_day_diff = pd.concat([launch['user_id'],launch.groupby(['user_id']).diff().rename({'launch_day':'launch_day_diff'},axis=1)],axis=1)\n",
    "    launch_day_diff_max = launch_day_diff.groupby(['user_id'])['launch_day_diff'].max().rename('launch_day_diff_max').reset_index()\n",
    "    launch_day_diff_min = launch_day_diff.groupby(['user_id'])['launch_day_diff'].min().rename('launch_day_diff_min').reset_index()\n",
    "    launch_day_diff_mean = launch_day_diff.groupby(['user_id'])['launch_day_diff'].mean().rename('launch_day_diff_mean').reset_index()\n",
    "    launch_day_diff_std = launch_day_diff.groupby(['user_id'])['launch_day_diff'].std().rename('launch_day_diff_std').reset_index()\n",
    "    launch_day_diff_kurt = launch_day_diff.groupby(['user_id'])['launch_day_diff'].agg(lambda x: pd.Series.kurt(x)).rename('launch_day_diff_kurt').reset_index()\n",
    "    launch_day_diff_skew = launch_day_diff.groupby(['user_id'])['launch_day_diff'].skew().rename('launch_day_diff_skew').reset_index()\n",
    "    launch_day_diff_last = launch_day_diff.groupby(['user_id'])['launch_day_diff'].last().rename('launch_day_diff_last').reset_index()\n",
    "\n",
    "    #最后一次launch在哪一天\n",
    "    launch_last_day = launch.groupby(['user_id'])['launch_day'].max().rename('launch_last_day').reset_index()\n",
    "    \n",
    "    #第一次启动是在哪一天\n",
    "    launch_first_day = launch.groupby(['user_id'])['launch_day'].min().rename('launch_first_day').reset_index()\n",
    "\n",
    "    #最后一次launch到end day隔了多久\n",
    "    launch_rest_day = (launch.groupby(['user_id'])['launch_day'].max()-end_day).rename('launch_rest_day').reset_index()\n",
    "    launch_rest_day['launch_rest_day'] = -launch_rest_day['launch_rest_day']\n",
    "    #按天统计特征\n",
    "    launch_count = launch.groupby(['user_id','launch_day']).agg({'launch_day':'count'}).rename({'launch_day':'launch_count'},axis=1).reset_index()\n",
    "    launch_count_max = launch_count.groupby(['user_id'])['launch_count'].max().rename('launch_count_max').reset_index()\n",
    "    launch_count_min = launch_count.groupby(['user_id'])['launch_count'].min().rename('launch_count_min').reset_index()\n",
    "    launch_count_mean = launch_count.groupby(['user_id'])['launch_count'].mean().rename('launch_count_mean').reset_index()\n",
    "    launch_count_std = launch_count.groupby(['user_id'])['launch_count'].std().rename('launch_count_std').reset_index()\n",
    "    launch_count_kurt = launch_count.groupby(['user_id'])['launch_count'].agg(lambda x: pd.Series.kurt(x)).rename('launch_count_kurt').reset_index()\n",
    "    launch_count_skew = launch_count.groupby(['user_id'])['launch_count'].skew().rename('launch_count_skew').reset_index()\n",
    "    launch_count_last = launch_count.groupby(['user_id'])['launch_count'].last().rename('launch_count_last').reset_index()\n",
    "    launch_day_mode = launch_count.groupby(['user_id'])['launch_count'].agg(lambda x: np.mean(pd.Series.mode(x))).rename('launch_day_mode').reset_index()\n",
    "    #最多launch的是哪一天\n",
    "    most_launch_day = launch_count.groupby('user_id').apply(lambda x: x[x.launch_count==x.launch_count.max()]).rename({'launch_day':'most_launch_day'},axis=1).drop('launch_count',axis=1).groupby('user_id')['most_launch_day'].max().reset_index()\n",
    "    most_launch_day_sub_end_day = (most_launch_day-end_day).rename({'most_launch_day':'most_launch_day_sub_end_day'},axis=1)\n",
    "    #MERGE\n",
    "    \n",
    "    #滑窗特征\n",
    "    feature = pd.merge(feature,launch_total_count_all,how='left',on='user_id')\n",
    "    feature = feature.rename({'launch_total_count':'launch_total_count_all'},axis=1)\n",
    "    feature = pd.merge(feature,launch_total_count_1,how='left',on='user_id')\n",
    "    feature = feature.rename({'launch_total_count':'launch_total_count_1'},axis=1)\n",
    "    feature = pd.merge(feature,launch_total_count_2,how='left',on='user_id')\n",
    "    feature = feature.rename({'launch_total_count':'launch_total_count_2'},axis=1)\n",
    "    feature = pd.merge(feature,launch_total_count_3,how='left',on='user_id')\n",
    "    feature = feature.rename({'launch_total_count':'launch_total_count_3'},axis=1)\n",
    "    feature = pd.merge(feature,launch_total_count_5,how='left',on='user_id')\n",
    "    feature = feature.rename({'launch_total_count':'launch_total_count_5'},axis=1)\n",
    "    feature = pd.merge(feature,launch_total_count_7,how='left',on='user_id')\n",
    "    feature = feature.rename({'launch_total_count':'launch_total_count_7'},axis=1)\n",
    "    feature = pd.merge(feature,launch_total_count_10,how='left',on='user_id')\n",
    "    feature = feature.rename({'launch_total_count':'launch_total_count_10'},axis=1)\n",
    "    # 加入时间权重\n",
    "    feature = pd.merge(feature,launch_time_feat_all,how='left',on='user_id')\n",
    "    feature = feature.rename({'launch_time_feat':'launch_time_feat_all'},axis=1)\n",
    "    feature = pd.merge(feature,launch_time_feat_1,how='left',on='user_id')\n",
    "    feature = feature.rename({'launch_time_feat':'launch_time_feat_1'},axis=1)\n",
    "    feature = pd.merge(feature,launch_time_feat_2,how='left',on='user_id')\n",
    "    feature = feature.rename({'launch_time_feat':'launch_time_feat_2'},axis=1)\n",
    "    feature = pd.merge(feature,launch_time_feat_3,how='left',on='user_id')\n",
    "    feature = feature.rename({'launch_time_feat':'launch_time_feat_3'},axis=1)\n",
    "    feature = pd.merge(feature,launch_time_feat_5,how='left',on='user_id')\n",
    "    feature = feature.rename({'launch_time_feat':'launch_time_feat_5'},axis=1)\n",
    "    feature = pd.merge(feature,launch_time_feat_7,how='left',on='user_id')\n",
    "    feature = feature.rename({'launch_time_feat':'launch_time_feat_7'},axis=1)\n",
    "    feature = pd.merge(feature,launch_time_feat_10,how='left',on='user_id')\n",
    "    feature = feature.rename({'launch_time_feat':'launch_time_feat_10'},axis=1)\n",
    "    \n",
    "    feature = pd.merge(feature,launch_day_diff_max,how='left',on='user_id')\n",
    "    feature = pd.merge(feature,launch_day_diff_min,how='left',on='user_id')\n",
    "    feature = pd.merge(feature,launch_day_diff_mean,how='left',on='user_id')\n",
    "    feature = pd.merge(feature,launch_day_diff_std,how='left',on='user_id')\n",
    "    feature = pd.merge(feature,launch_day_diff_kurt,how='left',on='user_id')\n",
    "    feature = pd.merge(feature,launch_day_diff_skew,how='left',on='user_id')\n",
    "    feature = pd.merge(feature,launch_day_diff_last,how='left',on='user_id')\n",
    "    feature = pd.merge(feature,launch_last_day,how='left',on='user_id')\n",
    "    feature = pd.merge(feature,launch_first_day,how='left',on='user_id')\n",
    "    feature = pd.merge(feature,launch_rest_day,how='left',on='user_id')\n",
    "    feature = pd.merge(feature,launch_count_max,how='left',on='user_id')\n",
    "    feature = pd.merge(feature,launch_count_min,how='left',on='user_id')\n",
    "    feature = pd.merge(feature,launch_count_mean,how='left',on='user_id')\n",
    "    feature = pd.merge(feature,launch_count_std,how='left',on='user_id')\n",
    "    feature = pd.merge(feature,launch_count_kurt,how='left',on='user_id')\n",
    "    feature = pd.merge(feature,launch_count_skew,how='left',on='user_id')\n",
    "    feature = pd.merge(feature,launch_count_last,how='left',on='user_id')\n",
    "    feature = pd.merge(feature,launch_day_mode,how='left',on='user_id')\n",
    "    feature = pd.merge(feature,most_launch_day,how='left',on='user_id')\n",
    "    feature = pd.merge(feature,most_launch_day_sub_end_day,how='left',on='user_id')\n",
    "    return feature"
   ]
  },
  {
   "cell_type": "markdown",
   "metadata": {
    "collapsed": true
   },
   "source": [
    "### 5.LGB模型调用\n",
    "  相对于xgboost，lightgbm二分类，速度快，自动处理缺失值，内存占用更小，准确率更高。"
   ]
  },
  {
   "cell_type": "code",
   "execution_count": null,
   "metadata": {
    "collapsed": true
   },
   "outputs": [],
   "source": [
    "import os\n",
    "import sys\n",
    "import time\n",
    "import pandas as pd\n",
    "from sklearn.model_selection import StratifiedKFold\n",
    "from sklearn.model_selection import train_test_split\n",
    "import numpy as np\n",
    "from sklearn.metrics import roc_auc_score\n",
    "from datetime import datetime\n",
    "import lightgbm as lgb\n",
    "import matplotlib.pyplot as plt\n",
    "from scipy.stats import pearsonr\n",
    "import warnings\n",
    "warnings.filterwarnings(\"ignore\")\n",
    "\n",
    "\n",
    "def feature_selection(feature_mode,importance_threshold,R_threshold,P_threshold):\n",
    "    train_path = '/home/qwbd/train_480.csv'\n",
    "    test_path = '/home/qwbd/test_480.csv'\n",
    "    \n",
    "    train = pd.read_csv(train_path)\n",
    "    test = pd.read_csv(test_path)\n",
    "    test_userid = test.pop('user_id')\n",
    "    if feature_mode == 1:\n",
    "        print('Loading all the features and label...')\n",
    "        train_feature = train.drop(['user_id','label'],axis=1)\n",
    "        train_label = train['label']\n",
    "        online_test_feature = test\n",
    "        print('特征数：'+ str(train_feature.columns.size))\n",
    "    train_feature, offline_test_feature, train_label, offline_test_label = train_test_split(train_feature, train_label, test_size=0.1,random_state=624)\n",
    "    return train_feature,train_label,online_test_feature,test_userid,offline_test_feature,offline_test_label\n",
    "\n",
    "def auc_score(params):\n",
    "    cv_auc = []\n",
    "    skf = StratifiedKFold(n_splits=N,shuffle=False,random_state=624)\n",
    "    for train_in,test_in in skf.split(train_feature,train_label):\n",
    "        if type(train_feature)==pd.core.frame.DataFrame:\n",
    "            X_train,X_test,y_train,y_test = train_feature.iloc[train_in],train_feature.iloc[test_in],train_label.iloc[train_in],train_label.iloc[test_in]\n",
    "        elif type(train_feature)==np.ndarray:\n",
    "            X_train,X_test,y_train,y_test = train_feature[train_in],train_feature[test_in],train_label[train_in],train_label[test_in]\n",
    "    \n",
    "        lgb_train = lgb.Dataset(X_train, y_train)\n",
    "        lgb_eval = lgb.Dataset(X_test, y_test, reference=lgb_train)\n",
    "    \n",
    "        gbm = lgb.train(params,\n",
    "                        lgb_train,\n",
    "                        num_boost_round=10000,\n",
    "                        valid_sets=lgb_eval,\n",
    "                        verbose_eval=False,\n",
    "                        early_stopping_rounds=20)\n",
    "    \n",
    "        y_pred = gbm.predict(X_test, num_iteration=gbm.best_iteration)\n",
    "        cv_auc.append(roc_auc_score(y_test,y_pred))\n",
    "    mean_cv_auc = np.sum(cv_auc)/5\n",
    "    return mean_cv_auc\n",
    "        \n",
    "\n",
    "def train_predict_func_cv(params):\n",
    "    cv_auc = []\n",
    "    offline_auc = []\n",
    "    cv_prediction = []\n",
    "    model_i = 0\n",
    "    model_path = '/home/qwbd/qwbd-file/Model/'\n",
    "    print('All params:',params)\n",
    "    skf = StratifiedKFold(n_splits=N,shuffle=False,random_state=624)\n",
    "    for train_in,test_in in skf.split(train_feature,train_label):\n",
    "        if type(train_feature)==pd.core.frame.DataFrame:\n",
    "            X_train,X_test,y_train,y_test = train_feature.iloc[train_in],train_feature.iloc[test_in],train_label.iloc[train_in],train_label.iloc[test_in]\n",
    "        elif type(train_feature)==np.ndarray:\n",
    "            X_train,X_test,y_train,y_test = train_feature[train_in],train_feature[test_in],train_label[train_in],train_label[test_in]\n",
    "    \n",
    "        lgb_train = lgb.Dataset(X_train, y_train)\n",
    "        lgb_eval = lgb.Dataset(X_test, y_test, reference=lgb_train)\n",
    "    \n",
    "        gbm = lgb.train(params,\n",
    "                        lgb_train,\n",
    "                        num_boost_round=10000,\n",
    "                        valid_sets=lgb_eval,\n",
    "                        verbose_eval=False,\n",
    "                        early_stopping_rounds=20)\n",
    "        \n",
    "        if is_save_model:\n",
    "            gbm.save_model(model_path+'model_'+str(model_i)+'.txt')\n",
    "            model_i += 1\n",
    "    \n",
    "        y_pred = gbm.predict(X_test, num_iteration=gbm.best_iteration)\n",
    "        cv_auc.append(roc_auc_score(y_test,y_pred))\n",
    "        offline_y_pred = gbm.predict(offline_test_feature, num_iteration=gbm.best_iteration)\n",
    "        offline_auc.append(roc_auc_score(offline_test_label,offline_y_pred))\n",
    "        cv_prediction.append(gbm.predict(online_test_feature, num_iteration=gbm.best_iteration))\n",
    "    \n",
    "    mean_cv_auc = np.sum(cv_auc)/N\n",
    "    mean_offline_auc = np.sum(offline_auc)/N\n",
    "    mean_cv_prediction = np.sum(cv_prediction,axis=0)/N\n",
    "    print('mean_cv_auc:',mean_cv_auc)\n",
    "    print('mean_offline_auc:',mean_offline_auc)\n",
    "    \n",
    "    if is_save_result:\n",
    "        result = pd.DataFrame()\n",
    "        result['userid'] = list(test_userid.values)\n",
    "        result['probability'] = list(mean_cv_prediction)\n",
    "        time_date = time.strftime('%m-%d-%H-%M',time.localtime(time.time()))\n",
    "        # submit_file_name = '%s_%s.txt'%(str(time_date),str(mean_offline_auc).split('.')[1])\n",
    "        submit_file_name = '%s_%s_%s.txt'%(str(time_date),('%.6f' % mean_cv_auc).split('.')[1],('%.6f' % mean_offline_auc).split('.')[1])\n",
    "        result.to_csv(submit_file_name,index=False,sep=',',header=None)\n",
    "        print(submit_file_name+' 线上:{}')\n",
    "    \n",
    "    if is_show_importance:\n",
    "        print('所用特征：'+ str(list(train_feature.columns.values)))\n",
    "        # gbm = lgb.Booster(model_file=model_path+'model_'+str(1)+'.txt')\n",
    "        print('所用特征重要性：'+ str(list(gbm.feature_importance())))\n",
    "        fig, ax = plt.subplots(1, 1, figsize=[16, 100])\n",
    "        lgb.plot_importance(gbm, ax=ax, max_num_features=700)\n",
    "        plt.savefig('feature_importance.png')\n",
    "\n",
    "\n",
    "if __name__ == \"__main__\":\n",
    "    time_start = datetime.now()\n",
    "    print('Start time:',time_start.strftime('%Y-%m-%d %H:%M:%S'))\n",
    "    \n",
    "    train_feature,train_label,online_test_feature,test_userid,offline_test_feature,offline_test_label = \\\n",
    "    feature_selection(feature_mode=1,importance_threshold=1,R_threshold=0.01,P_threshold=0.05) # 1:all 2:importance 3:pearson 4:importance+pearson\n",
    "    \n",
    "    N = 5\n",
    "    is_show_importance = True\n",
    "    is_save_result = True\n",
    "    is_save_model = False\n",
    "    \n",
    "    params = {'metric': 'auc', 'boosting_type': 'gbdt', 'learning_rate': 0.02, 'num_leaves': 32, 'max_depth': 5,'objective': 'binary', 'verbose': 1,'feature_fraction': 1, 'bagging_fraction': 0.8, 'bagging_freq': 5, 'lambda_l1': 1, 'lambda_l2': 1}\n",
    "    train_predict_func_cv(params)\n",
    "\n",
    "    time_end = datetime.now()\n",
    "    print('End time:',time_end.strftime('%Y-%m-%d %H:%M:%S'))\n",
    "    print('Total time:',\"%.2f\" % ((time_end-time_start).seconds/60),'minutes')\n",
    "    "
   ]
  },
  {
   "cell_type": "markdown",
   "metadata": {
    "collapsed": true
   },
   "source": [
    "### 6.后记\n",
    "  ####  一.数据和特征决定了机器学习的上限，而模型和算法只是逼近这个上限而已。\n",
    "  ####  二.每一次提交结果的记录很重要，方便对比线上线上进行调参或者融合。\n",
    "  ####  三.模型融合如果选的模型太相似，反而会降分。"
   ]
  },
  {
   "cell_type": "code",
   "execution_count": null,
   "metadata": {
    "collapsed": true
   },
   "outputs": [],
   "source": []
  },
  {
   "cell_type": "code",
   "execution_count": null,
   "metadata": {
    "collapsed": true
   },
   "outputs": [],
   "source": []
  },
  {
   "cell_type": "code",
   "execution_count": null,
   "metadata": {
    "collapsed": true
   },
   "outputs": [],
   "source": []
  }
 ],
 "metadata": {
  "kernelspec": {
   "display_name": "Python [conda env:py37tf20]",
   "language": "python",
   "name": "conda-env-py37tf20-py"
  },
  "language_info": {
   "codemirror_mode": {
    "name": "ipython",
    "version": 3
   },
   "file_extension": ".py",
   "mimetype": "text/x-python",
   "name": "python",
   "nbconvert_exporter": "python",
   "pygments_lexer": "ipython3",
   "version": "3.7.3"
  },
  "latex_envs": {
   "LaTeX_envs_menu_present": true,
   "autoclose": false,
   "autocomplete": true,
   "bibliofile": "biblio.bib",
   "cite_by": "apalike",
   "current_citInitial": 1.0,
   "eqLabelWithNumbers": true,
   "eqNumInitial": 1.0,
   "hotkeys": {
    "equation": "Ctrl-E",
    "itemize": "Ctrl-I"
   },
   "labels_anchors": false,
   "latex_user_defs": false,
   "report_style_numbering": false,
   "user_envs_cfg": false
  },
  "toc": {
   "base_numbering": 1.0,
   "nav_menu": {},
   "number_sections": true,
   "sideBar": true,
   "skip_h1_title": false,
   "title_cell": "Table of Contents",
   "title_sidebar": "Contents",
   "toc_cell": false,
   "toc_position": {},
   "toc_section_display": true,
   "toc_window_display": false
  }
 },
 "nbformat": 4,
 "nbformat_minor": 2
}
